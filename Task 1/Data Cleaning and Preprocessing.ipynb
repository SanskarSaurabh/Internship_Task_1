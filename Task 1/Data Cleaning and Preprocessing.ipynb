{
 "cells": [
  {
   "cell_type": "markdown",
   "id": "fd8719c8-e6dc-47fa-96ae-982d1b2164ca",
   "metadata": {},
   "source": [
    "# Steps for Data Cleaning and Preprocessing:-"
   ]
  },
  {
   "cell_type": "markdown",
   "id": "a69bc3b2-e953-4c94-817a-05d1995ba07f",
   "metadata": {},
   "source": [
    "### Step 1: Importing necessary libraries"
   ]
  },
  {
   "cell_type": "code",
   "execution_count": 1,
   "id": "5efc1ae8-f7f9-485d-99dc-e7a58176723e",
   "metadata": {},
   "outputs": [],
   "source": [
    "import pandas as pd\n",
    "import numpy as np"
   ]
  },
  {
   "cell_type": "markdown",
   "id": "7e40d173-8f03-4c93-a380-d5545bd63b64",
   "metadata": {},
   "source": [
    "### Step 2: Loading the dataset"
   ]
  },
  {
   "cell_type": "code",
   "execution_count": 2,
   "id": "128690ea-8a29-46d5-971f-c3fa168efb4a",
   "metadata": {},
   "outputs": [],
   "source": [
    "df = pd.read_csv(\"marketing_campaign.csv\", sep='\\t') # here backslash t is a tab separator"
   ]
  },
  {
   "cell_type": "markdown",
   "id": "ba0c2cf8-2af2-4414-afab-c37be4e0fbff",
   "metadata": {},
   "source": [
    "### Step 3: Previewing the dataset"
   ]
  },
  {
   "cell_type": "code",
   "execution_count": 3,
   "id": "1bd24b65-0178-4956-b4f9-1c7a85b40958",
   "metadata": {},
   "outputs": [
    {
     "name": "stdout",
     "output_type": "stream",
     "text": [
      "Initial dataset shape: (2240, 29)\n",
      "     ID  Year_Birth   Education Marital_Status   Income  Kidhome  Teenhome  \\\n",
      "0  5524        1957  Graduation         Single  58138.0        0         0   \n",
      "1  2174        1954  Graduation         Single  46344.0        1         1   \n",
      "2  4141        1965  Graduation       Together  71613.0        0         0   \n",
      "3  6182        1984  Graduation       Together  26646.0        1         0   \n",
      "4  5324        1981         PhD        Married  58293.0        1         0   \n",
      "\n",
      "  Dt_Customer  Recency  MntWines  ...  NumWebVisitsMonth  AcceptedCmp3  \\\n",
      "0  04-09-2012       58       635  ...                  7             0   \n",
      "1  08-03-2014       38        11  ...                  5             0   \n",
      "2  21-08-2013       26       426  ...                  4             0   \n",
      "3  10-02-2014       26        11  ...                  6             0   \n",
      "4  19-01-2014       94       173  ...                  5             0   \n",
      "\n",
      "   AcceptedCmp4  AcceptedCmp5  AcceptedCmp1  AcceptedCmp2  Complain  \\\n",
      "0             0             0             0             0         0   \n",
      "1             0             0             0             0         0   \n",
      "2             0             0             0             0         0   \n",
      "3             0             0             0             0         0   \n",
      "4             0             0             0             0         0   \n",
      "\n",
      "   Z_CostContact  Z_Revenue  Response  \n",
      "0              3         11         1  \n",
      "1              3         11         0  \n",
      "2              3         11         0  \n",
      "3              3         11         0  \n",
      "4              3         11         0  \n",
      "\n",
      "[5 rows x 29 columns]\n"
     ]
    }
   ],
   "source": [
    "print(\"Initial dataset shape:\", df.shape) # Here df.shape Returns number of rows & columns\n",
    "print(df.head()) # Here df.head Shows the first 5 rows of the dataset"
   ]
  },
  {
   "cell_type": "markdown",
   "id": "4591c853-80b0-46bb-9d62-7b5b3fb25f86",
   "metadata": {},
   "source": [
    "### Step 4: Checking for missing values"
   ]
  },
  {
   "cell_type": "code",
   "execution_count": 4,
   "id": "2e64709b-3500-44c6-bc87-5c292a5162bd",
   "metadata": {},
   "outputs": [
    {
     "name": "stdout",
     "output_type": "stream",
     "text": [
      "\n",
      "Missing values in each column:\n",
      "ID                      0\n",
      "Year_Birth              0\n",
      "Education               0\n",
      "Marital_Status          0\n",
      "Income                 24\n",
      "Kidhome                 0\n",
      "Teenhome                0\n",
      "Dt_Customer             0\n",
      "Recency                 0\n",
      "MntWines                0\n",
      "MntFruits               0\n",
      "MntMeatProducts         0\n",
      "MntFishProducts         0\n",
      "MntSweetProducts        0\n",
      "MntGoldProds            0\n",
      "NumDealsPurchases       0\n",
      "NumWebPurchases         0\n",
      "NumCatalogPurchases     0\n",
      "NumStorePurchases       0\n",
      "NumWebVisitsMonth       0\n",
      "AcceptedCmp3            0\n",
      "AcceptedCmp4            0\n",
      "AcceptedCmp5            0\n",
      "AcceptedCmp1            0\n",
      "AcceptedCmp2            0\n",
      "Complain                0\n",
      "Z_CostContact           0\n",
      "Z_Revenue               0\n",
      "Response                0\n",
      "dtype: int64\n",
      "Shape after dropping missing values: (2216, 29)\n"
     ]
    }
   ],
   "source": [
    "print(\"\\nMissing values in each column:\")\n",
    "print(df.isnull().sum())\n",
    "\n",
    "# Handling missing values - dropping rows with missing values\n",
    "df.dropna(inplace=True)  # Here df.dropna Drops rows that have at least one missing value (null).\n",
    "print(\"Shape after dropping missing values:\", df.shape)"
   ]
  },
  {
   "cell_type": "markdown",
   "id": "55021236-fef6-4652-b41e-df108ba97d62",
   "metadata": {},
   "source": [
    "### Step 5: Removing duplicates if any"
   ]
  },
  {
   "cell_type": "code",
   "execution_count": 5,
   "id": "1a51d7b6-2da0-47d2-83fb-63e4517d77cd",
   "metadata": {},
   "outputs": [
    {
     "name": "stdout",
     "output_type": "stream",
     "text": [
      "Shape after removing duplicates: (2216, 29)\n"
     ]
    }
   ],
   "source": [
    "df.drop_duplicates(inplace=True)  # inplace = true changes directly to the existing Data\n",
    "print(\"Shape after removing duplicates:\", df.shape)"
   ]
  },
  {
   "cell_type": "markdown",
   "id": "cfa50900-4b85-4e55-95ed-6bce5f172d65",
   "metadata": {},
   "source": [
    "### Step 6: Standardizing text values"
   ]
  },
  {
   "cell_type": "code",
   "execution_count": 6,
   "id": "ce2d7c9c-ba13-4713-8abe-eb5a4f627f72",
   "metadata": {},
   "outputs": [
    {
     "name": "stdout",
     "output_type": "stream",
     "text": [
      "Unique values in Education column: ['graduation' 'phd' 'master' 'basic' '2n cycle']\n"
     ]
    }
   ],
   "source": [
    "df['Education'] = df['Education'].str.lower().str.strip()\n",
    "print(\"Unique values in Education column:\", df['Education'].unique())"
   ]
  },
  {
   "cell_type": "markdown",
   "id": "2db625f3-aab5-40ea-8da5-8fa6f42537f4",
   "metadata": {},
   "source": [
    "### Step 7: Converting date columns to datetime format"
   ]
  },
  {
   "cell_type": "code",
   "execution_count": 7,
   "id": "e1e1ee4a-9732-4265-bfd2-0fe62230c8b2",
   "metadata": {},
   "outputs": [
    {
     "name": "stdout",
     "output_type": "stream",
     "text": [
      "Dt_Customer column type after conversion: datetime64[ns]\n"
     ]
    }
   ],
   "source": [
    "# Converting 'Dt_Customer' column to datetime\n",
    "df['Dt_Customer'] = pd.to_datetime(df['Dt_Customer'], dayfirst=True)\n",
    "print(\"Dt_Customer column type after conversion:\", df['Dt_Customer'].dtype)"
   ]
  },
  {
   "cell_type": "markdown",
   "id": "d7e2eb5e-90cf-4457-8b75-9e31a1bf3db4",
   "metadata": {},
   "source": [
    "### Step 8: Rename columns to be clean and uniform"
   ]
  },
  {
   "cell_type": "code",
   "execution_count": 8,
   "id": "79f92c54-03eb-4ba2-812e-a259ce1362d5",
   "metadata": {},
   "outputs": [
    {
     "name": "stdout",
     "output_type": "stream",
     "text": [
      "Updated column names:\n",
      " Index(['id', 'year_birth', 'education', 'marital_status', 'income', 'kidhome',\n",
      "       'teenhome', 'dt_customer', 'recency', 'mntwines', 'mntfruits',\n",
      "       'mntmeatproducts', 'mntfishproducts', 'mntsweetproducts',\n",
      "       'mntgoldprods', 'numdealspurchases', 'numwebpurchases',\n",
      "       'numcatalogpurchases', 'numstorepurchases', 'numwebvisitsmonth',\n",
      "       'acceptedcmp3', 'acceptedcmp4', 'acceptedcmp5', 'acceptedcmp1',\n",
      "       'acceptedcmp2', 'complain', 'z_costcontact', 'z_revenue', 'response'],\n",
      "      dtype='object')\n"
     ]
    }
   ],
   "source": [
    "df.columns = df.columns.str.lower().str.replace(\" \", \"_\").str.strip()\n",
    "print(\"Updated column names:\\n\", df.columns)"
   ]
  },
  {
   "cell_type": "markdown",
   "id": "13413373-96a2-412d-b93b-173f15afde0b",
   "metadata": {},
   "source": [
    "### Step 9: Fix data types"
   ]
  },
  {
   "cell_type": "code",
   "execution_count": 9,
   "id": "491dd853-009a-4cd2-9a79-447274406cfa",
   "metadata": {},
   "outputs": [],
   "source": [
    "df['income'] = pd.to_numeric(df['income'], errors='coerce')\n",
    "df['kidhome'] = df['kidhome'].astype(int)\n",
    "df['teenhome'] = df['teenhome'].astype(int)"
   ]
  },
  {
   "cell_type": "markdown",
   "id": "8ad01354-6bc7-4c64-b6e8-e4c322443ed4",
   "metadata": {},
   "source": [
    "### Step 10: Finally Saving the cleaned Dataset"
   ]
  },
  {
   "cell_type": "code",
   "execution_count": 10,
   "id": "2bb5a8d5-ebf3-49bc-a0f6-442390a7f52d",
   "metadata": {},
   "outputs": [
    {
     "name": "stdout",
     "output_type": "stream",
     "text": [
      "Cleaned dataset saved as 'cleaned_customer_personality.csv'\n"
     ]
    }
   ],
   "source": [
    "df.to_csv(\"cleaned_customer_personality.csv\", index=False)\n",
    "print(\"Cleaned dataset saved as 'cleaned_customer_personality.csv'\")"
   ]
  },
  {
   "cell_type": "code",
   "execution_count": null,
   "id": "9d14d0dc-7c53-4a65-8a44-2d9712434de6",
   "metadata": {},
   "outputs": [],
   "source": []
  }
 ],
 "metadata": {
  "kernelspec": {
   "display_name": "Python 3 (ipykernel)",
   "language": "python",
   "name": "python3"
  },
  "language_info": {
   "codemirror_mode": {
    "name": "ipython",
    "version": 3
   },
   "file_extension": ".py",
   "mimetype": "text/x-python",
   "name": "python",
   "nbconvert_exporter": "python",
   "pygments_lexer": "ipython3",
   "version": "3.12.5"
  }
 },
 "nbformat": 4,
 "nbformat_minor": 5
}
